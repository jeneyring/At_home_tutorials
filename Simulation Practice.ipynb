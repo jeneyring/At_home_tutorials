{
 "cells": [
  {
   "cell_type": "code",
   "execution_count": 18,
   "id": "0b798e16",
   "metadata": {},
   "outputs": [],
   "source": [
    "%matplotlib inline\n",
    "import numpy as np\n",
    "import pandas as pd\n",
    "\n",
    "np.random.seed(29)"
   ]
  },
  {
   "cell_type": "markdown",
   "id": "50515df6",
   "metadata": {},
   "source": [
    "## Example Problems\n",
    "\n",
    "[Carnival Dice Rolls]\n",
    "\n",
    "You are at a carnival and come across a person in a booth offering you a game of \"chance\" (as people in booths at carnivals tend to do).\n",
    "\n",
    "You pay 5 dollars and roll 3 dice. If the sum of the dice rolls is greater than 12, you get 15 dollars. If it's less than or equal to 12, you get nothing.\n",
    "\n",
    "Assuming the dice are fair, should you play this game? \n",
    "\n",
    "- How would this change if the winning condition was a sum greater than or equal to 12?\n"
   ]
  },
  {
   "cell_type": "code",
   "execution_count": 19,
   "id": "33e70b91",
   "metadata": {},
   "outputs": [
    {
     "data": {
      "text/plain": [
       "array([[6, 4, 5],\n",
       "       [6, 3, 1],\n",
       "       [1, 2, 2],\n",
       "       ...,\n",
       "       [6, 2, 1],\n",
       "       [3, 4, 3],\n",
       "       [4, 2, 4]])"
      ]
     },
     "execution_count": 19,
     "metadata": {},
     "output_type": "execute_result"
    }
   ],
   "source": [
    "##Keep track by using a 2 dimensional matrix\n",
    "\n",
    "n_trial = nrows = 10_000\n",
    "n_die = ncols = 3\n",
    "\n",
    "rolls=np.random.choice([1,2,3,4,5,6],n_trial * n_die).reshape(nrows, ncols)\n",
    "rolls"
   ]
  },
  {
   "cell_type": "code",
   "execution_count": 20,
   "id": "5fecbe00",
   "metadata": {},
   "outputs": [
    {
     "data": {
      "text/plain": [
       "array([15, 10,  5, ...,  9, 10, 10])"
      ]
     },
     "execution_count": 20,
     "metadata": {},
     "output_type": "execute_result"
    }
   ],
   "source": [
    "#adding up the rows of 3 columns (3 die) to help us see the probability of getting a dice roll greater than 12\n",
    "sums_by_trial = rolls.sum(axis=1)\n",
    "sums_by_trial"
   ]
  },
  {
   "cell_type": "code",
   "execution_count": 9,
   "id": "cb85638d",
   "metadata": {},
   "outputs": [
    {
     "data": {
      "text/plain": [
       "array([False, False,  True, ..., False, False, False])"
      ]
     },
     "execution_count": 9,
     "metadata": {},
     "output_type": "execute_result"
    }
   ],
   "source": [
    "#convert columns into boolean values based on x>12\n",
    "wins = sums_by_trial > 12\n",
    "wins"
   ]
  },
  {
   "cell_type": "code",
   "execution_count": 11,
   "id": "2a85b6dc",
   "metadata": {},
   "outputs": [
    {
     "data": {
      "text/plain": [
       "0.2655"
      ]
     },
     "execution_count": 11,
     "metadata": {},
     "output_type": "execute_result"
    }
   ],
   "source": [
    "#we then change these boolean to an int again, to gain 1 and 0 for the rows that are >12\n",
    "win_rate=wins.astype(int).mean()\n",
    "win_rate"
   ]
  },
  {
   "cell_type": "code",
   "execution_count": 14,
   "id": "d3e30870",
   "metadata": {},
   "outputs": [
    {
     "data": {
      "text/plain": [
       "-1.0174999999999996"
      ]
     },
     "execution_count": 14,
     "metadata": {},
     "output_type": "execute_result"
    }
   ],
   "source": [
    "#with that win rate, let's look at our profit\n",
    "expected_winnings = win_rate * 15 \n",
    "cost = 5\n",
    "expected_profit = expected_winnings - cost\n",
    "expected_profit"
   ]
  },
  {
   "cell_type": "markdown",
   "id": "22c91c51",
   "metadata": {},
   "source": [
    "#### This is showing us that we should probably expected to lose a litte over $1 each time we play."
   ]
  },
  {
   "cell_type": "code",
   "execution_count": 15,
   "id": "cda92271",
   "metadata": {},
   "outputs": [],
   "source": [
    "#let's answer the next part of the question:"
   ]
  },
  {
   "cell_type": "markdown",
   "id": "96e22095",
   "metadata": {},
   "source": [
    "How would this change if the winning condition was a sum greater than or equal to 12?"
   ]
  },
  {
   "cell_type": "code",
   "execution_count": 21,
   "id": "cc3c3901",
   "metadata": {},
   "outputs": [
    {
     "data": {
      "text/plain": [
       "0.5860000000000003"
      ]
     },
     "execution_count": 21,
     "metadata": {},
     "output_type": "execute_result"
    }
   ],
   "source": [
    "wins = sums_by_trial >= 12\n",
    "win_rate = wins.astype(int).mean()\n",
    "expected_winnings = win_rate * 15\n",
    "cost = 5\n",
    "expected_profit = expected_winnings - cost\n",
    "expected_profit"
   ]
  },
  {
   "cell_type": "markdown",
   "id": "179038aa",
   "metadata": {},
   "source": [
    "#### If we changed just the sum being >= 12, then we could expect to earn about 58cents each play"
   ]
  },
  {
   "cell_type": "markdown",
   "id": "a361da55",
   "metadata": {},
   "source": [
    "___________________________________________________________________"
   ]
  },
  {
   "cell_type": "markdown",
   "id": "5cbcd1db",
   "metadata": {},
   "source": [
    "### No Rest or Relaxation"
   ]
  },
  {
   "cell_type": "markdown",
   "id": "6c349ea6",
   "metadata": {},
   "source": [
    "There's a 30% chance my son takes a nap on any given weekend day. What is the chance that he takes a nap at least one day this weekend? What is the probability that he doesn't nap at all?"
   ]
  },
  {
   "cell_type": "code",
   "execution_count": 23,
   "id": "7003f40b",
   "metadata": {},
   "outputs": [],
   "source": [
    "p_nap = 0.3 #30% probability\n",
    "ndays = ncols = 2 #two columns for two weekend days (sat/Sun)\n",
    "n_simulated_weekends = nrows = 10**5 #100000 trials run"
   ]
  },
  {
   "cell_type": "markdown",
   "id": "70f80ef8",
   "metadata": {},
   "source": [
    "To find if a nap is taken or not, we will use np.random.random and say anything less than or equal to our probability (30%) IS a nap taken."
   ]
  },
  {
   "cell_type": "code",
   "execution_count": 25,
   "id": "6778fc0d",
   "metadata": {},
   "outputs": [
    {
     "data": {
      "text/plain": [
       "array([[0.46762045, 0.70078355],\n",
       "       [0.18897809, 0.54312897],\n",
       "       [0.253291  , 0.43836437],\n",
       "       ...,\n",
       "       [0.15008559, 0.37577491],\n",
       "       [0.34690321, 0.58934311],\n",
       "       [0.97135998, 0.57219933]])"
      ]
     },
     "execution_count": 25,
     "metadata": {},
     "output_type": "execute_result"
    }
   ],
   "source": [
    "data = np.random.random((nrows, ncols))\n",
    "data"
   ]
  },
  {
   "cell_type": "code",
   "execution_count": 26,
   "id": "949a5618",
   "metadata": {},
   "outputs": [
    {
     "data": {
      "text/plain": [
       "array([[False, False],\n",
       "       [ True, False],\n",
       "       [ True, False],\n",
       "       ...,\n",
       "       [ True, False],\n",
       "       [False, False],\n",
       "       [False, False]])"
      ]
     },
     "execution_count": 26,
     "metadata": {},
     "output_type": "execute_result"
    }
   ],
   "source": [
    "#let's turn them to boolean so we can turn it into 1 and 0\n",
    "naps = data < p_nap\n",
    "naps"
   ]
  },
  {
   "cell_type": "code",
   "execution_count": 27,
   "id": "6312b2db",
   "metadata": {},
   "outputs": [
    {
     "data": {
      "text/plain": [
       "array([0, 1, 1, ..., 1, 0, 0])"
      ]
     },
     "execution_count": 27,
     "metadata": {},
     "output_type": "execute_result"
    }
   ],
   "source": [
    "naps.sum(axis=1)"
   ]
  },
  {
   "cell_type": "code",
   "execution_count": null,
   "id": "495b6087",
   "metadata": {},
   "outputs": [],
   "source": []
  }
 ],
 "metadata": {
  "kernelspec": {
   "display_name": "Python 3 (ipykernel)",
   "language": "python",
   "name": "python3"
  },
  "language_info": {
   "codemirror_mode": {
    "name": "ipython",
    "version": 3
   },
   "file_extension": ".py",
   "mimetype": "text/x-python",
   "name": "python",
   "nbconvert_exporter": "python",
   "pygments_lexer": "ipython3",
   "version": "3.9.7"
  }
 },
 "nbformat": 4,
 "nbformat_minor": 5
}
