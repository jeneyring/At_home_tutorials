{
 "cells": [
  {
   "cell_type": "code",
   "execution_count": 2,
   "id": "a297fee1",
   "metadata": {},
   "outputs": [],
   "source": [
    "import matplotlib.pyplot as plt\n",
    "import numpy as np\n",
    "from scipy import stats\n",
    "\n",
    "np.random.seed(123)"
   ]
  },
  {
   "cell_type": "code",
   "execution_count": 3,
   "id": "e8c65f2a",
   "metadata": {},
   "outputs": [],
   "source": [
    "#set up distribution\n",
    "\n",
    "μ = 40\n",
    "σ = 15\n",
    "walk= 10\n",
    "\n",
    "esquire = stats.norm(μ, σ)"
   ]
  },
  {
   "cell_type": "code",
   "execution_count": 4,
   "id": "390fb13f",
   "metadata": {},
   "outputs": [
    {
     "data": {
      "text/plain": [
       "0.7475074624530771"
      ]
     },
     "execution_count": 4,
     "metadata": {},
     "output_type": "execute_result"
    }
   ],
   "source": [
    "esquire.cdf(60-walk)"
   ]
  },
  {
   "cell_type": "code",
   "execution_count": 20,
   "id": "e54da991",
   "metadata": {},
   "outputs": [
    {
     "data": {
      "text/plain": [
       "0.16330899776626487"
      ]
     },
     "execution_count": 20,
     "metadata": {},
     "output_type": "execute_result"
    }
   ],
   "source": [
    "n_trials = 618\n",
    "p = .1\n",
    "combo = n_trials * p\n",
    "actual_ct = 70\n",
    "\n",
    "survey_completed = stats.poisson(combo)\n",
    "survey_completed.sf(actual_ct-1)"
   ]
  },
  {
   "cell_type": "code",
   "execution_count": null,
   "id": "e3dd30a4",
   "metadata": {},
   "outputs": [],
   "source": []
  }
 ],
 "metadata": {
  "kernelspec": {
   "display_name": "Python 3 (ipykernel)",
   "language": "python",
   "name": "python3"
  },
  "language_info": {
   "codemirror_mode": {
    "name": "ipython",
    "version": 3
   },
   "file_extension": ".py",
   "mimetype": "text/x-python",
   "name": "python",
   "nbconvert_exporter": "python",
   "pygments_lexer": "ipython3",
   "version": "3.9.7"
  }
 },
 "nbformat": 4,
 "nbformat_minor": 5
}
