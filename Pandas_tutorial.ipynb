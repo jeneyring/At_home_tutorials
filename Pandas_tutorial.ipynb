{
 "cells": [
  {
   "cell_type": "markdown",
   "id": "53667e70",
   "metadata": {},
   "source": [
    "## Pandas Tutorial"
   ]
  },
  {
   "cell_type": "markdown",
   "id": "986ba859",
   "metadata": {},
   "source": [
    "### Series\n",
    "#### one dimensional data type"
   ]
  },
  {
   "cell_type": "code",
   "execution_count": 4,
   "id": "2e6d0553",
   "metadata": {},
   "outputs": [
    {
     "data": {
      "text/plain": [
       "'Derek'"
      ]
     },
     "execution_count": 4,
     "metadata": {},
     "output_type": "execute_result"
    }
   ],
   "source": [
    "import numpy as np\n",
    "import pandas as pd\n",
    "\n",
    "list_1= ['a','b','c','d']\n",
    "labels =[1,2,3,4]\n",
    "ser_1=pd.Series(data=list_1, index=labels)\n",
    "ser_1\n",
    "\n",
    "arr_1 = np.array([1,2,3,4])\n",
    "ser_2=pd.Series(arr_1)\n",
    "\n",
    "dict_1={'f_name': \"Derek\", \"l_name\":\"Banas\", 'age': 44 }\n",
    "ser_3=pd.Series(dict_1)\n",
    "ser_3\n"
   ]
  },
  {
   "cell_type": "code",
   "execution_count": 6,
   "id": "68a1486e",
   "metadata": {},
   "outputs": [
    {
     "data": {
      "text/plain": [
       "0    1.0\n",
       "1    1.0\n",
       "2    1.0\n",
       "3    1.0\n",
       "dtype: float64"
      ]
     },
     "execution_count": 6,
     "metadata": {},
     "output_type": "execute_result"
    }
   ],
   "source": [
    "ser_2 / ser_2"
   ]
  },
  {
   "cell_type": "code",
   "execution_count": 7,
   "id": "bd0789a6",
   "metadata": {},
   "outputs": [
    {
     "data": {
      "text/plain": [
       "0     2.718282\n",
       "1     7.389056\n",
       "2    20.085537\n",
       "3    54.598150\n",
       "dtype: float64"
      ]
     },
     "execution_count": 7,
     "metadata": {},
     "output_type": "execute_result"
    }
   ],
   "source": [
    "np.exp(ser_2)"
   ]
  },
  {
   "cell_type": "code",
   "execution_count": 11,
   "id": "c2da6e46",
   "metadata": {},
   "outputs": [],
   "source": [
    "###operations rely on labels:\n",
    "ser_4=pd.Series({4: 5, 5: 6, 6: 7, 7: 8})"
   ]
  },
  {
   "cell_type": "code",
   "execution_count": 16,
   "id": "3704b061",
   "metadata": {},
   "outputs": [],
   "source": [
    "#can assign names to Series:\n",
    "ser_4=pd.Series({4: 5, 5: 6, 6: 7, 7: 8}, name = 'random_nums')"
   ]
  },
  {
   "cell_type": "markdown",
   "id": "bd291f41",
   "metadata": {},
   "source": [
    "### DataFrames"
   ]
  },
  {
   "cell_type": "markdown",
   "id": "3cb88aed",
   "metadata": {},
   "source": [
    "### Creating DataFrames:"
   ]
  },
  {
   "cell_type": "code",
   "execution_count": 23,
   "id": "9bd47446",
   "metadata": {},
   "outputs": [
    {
     "data": {
      "text/html": [
       "<div>\n",
       "<style scoped>\n",
       "    .dataframe tbody tr th:only-of-type {\n",
       "        vertical-align: middle;\n",
       "    }\n",
       "\n",
       "    .dataframe tbody tr th {\n",
       "        vertical-align: top;\n",
       "    }\n",
       "\n",
       "    .dataframe thead th {\n",
       "        text-align: right;\n",
       "    }\n",
       "</style>\n",
       "<table border=\"1\" class=\"dataframe\">\n",
       "  <thead>\n",
       "    <tr style=\"text-align: right;\">\n",
       "      <th></th>\n",
       "      <th>C</th>\n",
       "      <th>D</th>\n",
       "      <th>E</th>\n",
       "    </tr>\n",
       "  </thead>\n",
       "  <tbody>\n",
       "    <tr>\n",
       "      <th>A</th>\n",
       "      <td>48</td>\n",
       "      <td>10</td>\n",
       "      <td>27</td>\n",
       "    </tr>\n",
       "    <tr>\n",
       "      <th>B</th>\n",
       "      <td>45</td>\n",
       "      <td>27</td>\n",
       "      <td>14</td>\n",
       "    </tr>\n",
       "  </tbody>\n",
       "</table>\n",
       "</div>"
      ],
      "text/plain": [
       "    C   D   E\n",
       "A  48  10  27\n",
       "B  45  27  14"
      ]
     },
     "execution_count": 23,
     "metadata": {},
     "output_type": "execute_result"
    }
   ],
   "source": [
    "arr_2 = np.random.randint(10,50,size=(2,3))\n",
    "df_1 = pd.DataFrame(arr_2,['A','B'],['C','D','E'])\n",
    "df_1"
   ]
  },
  {
   "cell_type": "code",
   "execution_count": null,
   "id": "989f935c",
   "metadata": {},
   "outputs": [],
   "source": []
  }
 ],
 "metadata": {
  "kernelspec": {
   "display_name": "Python 3 (ipykernel)",
   "language": "python",
   "name": "python3"
  },
  "language_info": {
   "codemirror_mode": {
    "name": "ipython",
    "version": 3
   },
   "file_extension": ".py",
   "mimetype": "text/x-python",
   "name": "python",
   "nbconvert_exporter": "python",
   "pygments_lexer": "ipython3",
   "version": "3.9.7"
  }
 },
 "nbformat": 4,
 "nbformat_minor": 5
}
