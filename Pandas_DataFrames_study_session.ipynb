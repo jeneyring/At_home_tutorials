{
 "cells": [
  {
   "cell_type": "markdown",
   "id": "58646678",
   "metadata": {},
   "source": [
    "## NOTES: \n",
    "\n",
    "- Create a notebook of where I write down what I know about the code AND ESPECIALLY, what comes up that is NEW.\n",
    "\n",
    "- Look at a run example codes.\n",
    "\n",
    "- Modify the code to make a loop that starts at 1 and ends at 10.\n",
    "\n",
    "- or Modify the code to make a loop that starts at 10 and counts down to 0.\n",
    "\n",
    "- Try removing the moving pieces as I can to isolate what the new function does...\n",
    "\n",
    "- Break down the exercise down into pieces. [What is new? What do I already know?]"
   ]
  },
  {
   "cell_type": "markdown",
   "id": "a6102c83",
   "metadata": {},
   "source": [
    "### Self measurements to assess my coding knowledge \n",
    "- Hackerrank (SQL, Python, stats) *** START HERE, 1 or 2 per day\n",
    "- SqlZoo\n",
    "- CodeWars"
   ]
  },
  {
   "cell_type": "markdown",
   "id": "75f82822",
   "metadata": {},
   "source": [
    "#### I don't have to know everything, (there will always be gaps)- \n",
    "-I need to focus on how to get to the next career mark (if it's one block gap, keep running forward; if its a large gap, it may be time to do some studying until it's one gap"
   ]
  },
  {
   "cell_type": "markdown",
   "id": "1c1336fd",
   "metadata": {},
   "source": [
    "### Lambda functions:\n",
    "- A function definition isn't the same thins as the function being run\n",
    "\n",
    "- When to use, what's the upside?\n",
    "\n",
    "- Lambda is a function definition w/o a name"
   ]
  },
  {
   "cell_type": "code",
   "execution_count": 1,
   "id": "4286b897",
   "metadata": {},
   "outputs": [
    {
     "data": {
      "text/plain": [
       "function"
      ]
     },
     "execution_count": 1,
     "metadata": {},
     "output_type": "execute_result"
    }
   ],
   "source": [
    "def add(a,b):\n",
    "    return a + b\n",
    "\n",
    "type(add)"
   ]
  },
  {
   "cell_type": "code",
   "execution_count": 2,
   "id": "3f976d13",
   "metadata": {},
   "outputs": [
    {
     "data": {
      "text/plain": [
       "6"
      ]
     },
     "execution_count": 2,
     "metadata": {},
     "output_type": "execute_result"
    }
   ],
   "source": [
    "# Function definition is a blueprint (aka recipe)\n",
    "### We call/run/execute functions when we type the function name w/ parenthesis\n",
    "add(2,4)"
   ]
  },
  {
   "cell_type": "code",
   "execution_count": 3,
   "id": "156bd307",
   "metadata": {},
   "outputs": [],
   "source": [
    "# if there are no parenthesis, no function is executed"
   ]
  },
  {
   "cell_type": "code",
   "execution_count": 4,
   "id": "2e3cb7d6",
   "metadata": {},
   "outputs": [
    {
     "data": {
      "text/plain": [
       "function"
      ]
     },
     "execution_count": 4,
     "metadata": {},
     "output_type": "execute_result"
    }
   ],
   "source": [
    "add = lambda x,y: x + y\n",
    "type(add)"
   ]
  },
  {
   "cell_type": "markdown",
   "id": "e6a5de4a",
   "metadata": {},
   "source": [
    "## Lambdas exist to allow us to define a function in one line\n",
    "- the 'return' is implicit\n",
    "- in isolation, Lambdas is not really valuable\n",
    "- Where coders use Lambdas is where we have methods/functions that take in a function as the input\n",
    "- Example if you are sending a def into a function as an input\n",
    "- You'll see Lambdas in:\n",
    "    - sorting a list of dictionary by a specific dict. key (sort, min, max)\n",
    "    - and with .apply"
   ]
  },
  {
   "cell_type": "code",
   "execution_count": 5,
   "id": "1e15f5d4",
   "metadata": {},
   "outputs": [
    {
     "data": {
      "text/plain": [
       "(-5, 99)"
      ]
     },
     "execution_count": 5,
     "metadata": {},
     "output_type": "execute_result"
    }
   ],
   "source": [
    "numbers = [1,20,99,-5]\n",
    "min(numbers), max(numbers)"
   ]
  },
  {
   "cell_type": "code",
   "execution_count": 17,
   "id": "b79e2fb4",
   "metadata": {},
   "outputs": [],
   "source": [
    "books = [\n",
    "    {\n",
    "        'title':'The Giving Tree',\n",
    "        'author':'Shel S.',\n",
    "        'price': \"$2.99\",\n",
    "        'locations':[\"Half-Price Books\",\"Target\",\"Library\"]\n",
    "        \n",
    "    },\n",
    "    {\n",
    "        'title':'How to win friends',\n",
    "        'author':'Dale C',\n",
    "        'price':\"$0.99\",\n",
    "        'locations':[\"Chewie Bookshelf\",\"Target\",\"Library\"]\n",
    "        \n",
    "    },\n",
    "    {\n",
    "        'title':'Visual Display',\n",
    "        'author':'Edward T.',\n",
    "        'price':'$40.00',\n",
    "        'locations':[\"https://tufte.com\"]\n",
    "        \n",
    "    },\n",
    "    {\n",
    "        'title':'Black Swan',\n",
    "        'author':'Nassim Taleb',\n",
    "        'price':\"$12.50\",\n",
    "        'locations':[\"BN.com\",\"Amazon.com\",\"Library\"]\n",
    "        \n",
    "    },\n",
    "]"
   ]
  },
  {
   "cell_type": "code",
   "execution_count": 11,
   "id": "06cf12da",
   "metadata": {},
   "outputs": [],
   "source": [
    "#this is a defined function (with a name) we could use elsewhere\n",
    "def by_price(book):\n",
    "    return book['price']"
   ]
  },
  {
   "cell_type": "code",
   "execution_count": 12,
   "id": "2f5cb661",
   "metadata": {},
   "outputs": [
    {
     "data": {
      "text/plain": [
       "{'title': 'Visual Display', 'author': 'Edward T.', 'price': '$40.00'}"
      ]
     },
     "execution_count": 12,
     "metadata": {},
     "output_type": "execute_result"
    }
   ],
   "source": [
    "#pay attention to the by_price being an input..\n",
    "#it doesn't have it's own parenthesis\n",
    "max(books, key=by_price)"
   ]
  },
  {
   "cell_type": "code",
   "execution_count": 13,
   "id": "e960d226",
   "metadata": {},
   "outputs": [
    {
     "data": {
      "text/plain": [
       "{'title': 'Visual Display', 'author': 'Edward T.', 'price': '$40.00'}"
      ]
     },
     "execution_count": 13,
     "metadata": {},
     "output_type": "execute_result"
    }
   ],
   "source": [
    "max(books, key=lambda book: book['price']) #it is less work to send in a lambda than to sort out a function"
   ]
  },
  {
   "cell_type": "code",
   "execution_count": 14,
   "id": "72e3cf15",
   "metadata": {},
   "outputs": [
    {
     "data": {
      "text/plain": [
       "{'title': 'How to win friends', 'author': 'Dale C', 'price': '$0.99'}"
      ]
     },
     "execution_count": 14,
     "metadata": {},
     "output_type": "execute_result"
    }
   ],
   "source": [
    "min(books, key=lambda book: book['author'])"
   ]
  },
  {
   "cell_type": "code",
   "execution_count": 15,
   "id": "eb61116d",
   "metadata": {},
   "outputs": [
    {
     "data": {
      "text/plain": [
       "[{'title': 'Black Swan', 'author': 'Nassim Taleb', 'price': '$12.50'},\n",
       " {'title': 'How to win friends', 'author': 'Dale C', 'price': '$0.99'},\n",
       " {'title': 'The Giving Tree', 'author': 'Shel S.', 'price': '$2.99'},\n",
       " {'title': 'Visual Display', 'author': 'Edward T.', 'price': '$40.00'}]"
      ]
     },
     "execution_count": 15,
     "metadata": {},
     "output_type": "execute_result"
    }
   ],
   "source": [
    "sorted(books, key=lambda book:book['title'])"
   ]
  },
  {
   "cell_type": "code",
   "execution_count": 18,
   "id": "9493f8c2",
   "metadata": {},
   "outputs": [
    {
     "data": {
      "text/plain": [
       "[{'title': 'The Giving Tree',\n",
       "  'author': 'Shel S.',\n",
       "  'price': '$2.99',\n",
       "  'locations': ['Half-Price Books', 'Target', 'Library']},\n",
       " {'title': 'How to win friends',\n",
       "  'author': 'Dale C',\n",
       "  'price': '$0.99',\n",
       "  'locations': ['Chewie Bookshelf', 'Target', 'Library']},\n",
       " {'title': 'Visual Display',\n",
       "  'author': 'Edward T.',\n",
       "  'price': '$40.00',\n",
       "  'locations': ['https://tufte.com']},\n",
       " {'title': 'Black Swan',\n",
       "  'author': 'Nassim Taleb',\n",
       "  'price': '$12.50',\n",
       "  'locations': ['BN.com', 'Amazon.com', 'Library']}]"
      ]
     },
     "execution_count": 18,
     "metadata": {},
     "output_type": "execute_result"
    }
   ],
   "source": [
    "#Books list of dictionaries\n",
    "#Almost every key is a single scalar (one number or string)\n",
    "#Locations key points to a list\n",
    "books"
   ]
  },
  {
   "cell_type": "code",
   "execution_count": 19,
   "id": "ac948649",
   "metadata": {},
   "outputs": [
    {
     "data": {
      "text/plain": [
       "{'title': 'The Giving Tree',\n",
       " 'author': 'Shel S.',\n",
       " 'price': '$2.99',\n",
       " 'locations': ['Half-Price Books', 'Target', 'Library']}"
      ]
     },
     "execution_count": 19,
     "metadata": {},
     "output_type": "execute_result"
    }
   ],
   "source": [
    "#How do we access the first item on the list?\n",
    "books[0]"
   ]
  },
  {
   "cell_type": "code",
   "execution_count": 21,
   "id": "7404bdd9",
   "metadata": {},
   "outputs": [
    {
     "data": {
      "text/plain": [
       "'Shel S.'"
      ]
     },
     "execution_count": 21,
     "metadata": {},
     "output_type": "execute_result"
    }
   ],
   "source": [
    "#How do we access the author of the first item on the list?\n",
    "##note: if some line of code give a dict, treat that expresson as one\n",
    "books[0]['author']"
   ]
  },
  {
   "cell_type": "code",
   "execution_count": 23,
   "id": "4f57f124",
   "metadata": {},
   "outputs": [
    {
     "data": {
      "text/plain": [
       "'S'"
      ]
     },
     "execution_count": 23,
     "metadata": {},
     "output_type": "execute_result"
    }
   ],
   "source": [
    "#How do we access the first char of the author of the first item on the list?\n",
    "books[0]['author'][0]"
   ]
  },
  {
   "cell_type": "code",
   "execution_count": 25,
   "id": "c0d92145",
   "metadata": {},
   "outputs": [
    {
     "data": {
      "text/plain": [
       "'Library'"
      ]
     },
     "execution_count": 25,
     "metadata": {},
     "output_type": "execute_result"
    }
   ],
   "source": [
    "#How to access the last location onf the last book?\n",
    "books[-1]['locations'][-1]"
   ]
  },
  {
   "cell_type": "code",
   "execution_count": 27,
   "id": "0dd722fc",
   "metadata": {},
   "outputs": [
    {
     "data": {
      "text/plain": [
       "'neapple'"
      ]
     },
     "execution_count": 27,
     "metadata": {},
     "output_type": "execute_result"
    }
   ],
   "source": [
    "### Slicing syntax:\n",
    "start = 0\n",
    "\"pineapple\"[2:]"
   ]
  },
  {
   "cell_type": "code",
   "execution_count": 30,
   "id": "76d9023e",
   "metadata": {},
   "outputs": [
    {
     "data": {
      "text/plain": [
       "['Shel S.', 'Dale C']"
      ]
     },
     "execution_count": 30,
     "metadata": {},
     "output_type": "execute_result"
    }
   ],
   "source": [
    "##How do we produce a list of only the first two authors?\n",
    "first_two_authors = [\n",
    "    books[0]['author'],\n",
    "    books[1]['author']\n",
    "]\n",
    "first_two_authors"
   ]
  },
  {
   "cell_type": "code",
   "execution_count": 33,
   "id": "e653614d",
   "metadata": {},
   "outputs": [
    {
     "data": {
      "text/plain": [
       "['Shel S.', 'Dale C', 'Edward T.', 'Nassim Taleb']"
      ]
     },
     "execution_count": 33,
     "metadata": {},
     "output_type": "execute_result"
    }
   ],
   "source": [
    "#if we need to produce a list of only the authorsm create a list!\n",
    "authors = []\n",
    "for book in books:\n",
    "    authors.append(book['author'])\n",
    "    \n",
    "authors"
   ]
  },
  {
   "cell_type": "markdown",
   "id": "fdf22362",
   "metadata": {},
   "source": [
    "### DATA CLEANING:\n",
    "- we can't do math on strings"
   ]
  },
  {
   "cell_type": "code",
   "execution_count": 34,
   "id": "e48d6a3e",
   "metadata": {},
   "outputs": [
    {
     "data": {
      "text/plain": [
       "'mangoicee'"
      ]
     },
     "execution_count": 34,
     "metadata": {},
     "output_type": "execute_result"
    }
   ],
   "source": [
    "#'adding' strings is not a type error\n",
    "#but if the strings hold numbers, \n",
    "\"mango\" + \"icee\""
   ]
  },
  {
   "cell_type": "code",
   "execution_count": 35,
   "id": "66efa627",
   "metadata": {},
   "outputs": [
    {
     "data": {
      "text/plain": [
       "'mangomangomango'"
      ]
     },
     "execution_count": 35,
     "metadata": {},
     "output_type": "execute_result"
    }
   ],
   "source": [
    "\"mango\" * 3"
   ]
  },
  {
   "cell_type": "code",
   "execution_count": 44,
   "id": "8443887d",
   "metadata": {},
   "outputs": [
    {
     "ename": "AttributeError",
     "evalue": "'float' object has no attribute 'replace'",
     "output_type": "error",
     "traceback": [
      "\u001b[0;31m---------------------------------------------------------------------------\u001b[0m",
      "\u001b[0;31mAttributeError\u001b[0m                            Traceback (most recent call last)",
      "\u001b[0;32m/var/folders/d3/11nygz6126ndxvtrp12687680000gn/T/ipykernel_43003/2817368659.py\u001b[0m in \u001b[0;36m<module>\u001b[0;34m\u001b[0m\n\u001b[1;32m      4\u001b[0m     \u001b[0mbook\u001b[0m\u001b[0;34m[\u001b[0m\u001b[0;34m'price'\u001b[0m\u001b[0;34m]\u001b[0m \u001b[0;34m=\u001b[0m \u001b[0mfloat\u001b[0m\u001b[0;34m(\u001b[0m\u001b[0mbook\u001b[0m\u001b[0;34m[\u001b[0m\u001b[0;34m\"price\"\u001b[0m\u001b[0;34m]\u001b[0m\u001b[0;34m.\u001b[0m\u001b[0mreplace\u001b[0m\u001b[0;34m(\u001b[0m\u001b[0;34m\"$\"\u001b[0m\u001b[0;34m,\u001b[0m\u001b[0;34m\"\"\u001b[0m\u001b[0;34m)\u001b[0m\u001b[0;34m)\u001b[0m\u001b[0;34m\u001b[0m\u001b[0;34m\u001b[0m\u001b[0m\n\u001b[1;32m      5\u001b[0m \u001b[0;34m\u001b[0m\u001b[0m\n\u001b[0;32m----> 6\u001b[0;31m \u001b[0mget_price\u001b[0m\u001b[0;34m(\u001b[0m\u001b[0mbooks\u001b[0m\u001b[0;34m[\u001b[0m\u001b[0;36m0\u001b[0m\u001b[0;34m]\u001b[0m\u001b[0;34m)\u001b[0m\u001b[0;34m\u001b[0m\u001b[0;34m\u001b[0m\u001b[0m\n\u001b[0m",
      "\u001b[0;32m/var/folders/d3/11nygz6126ndxvtrp12687680000gn/T/ipykernel_43003/2817368659.py\u001b[0m in \u001b[0;36mget_price\u001b[0;34m(book)\u001b[0m\n\u001b[1;32m      2\u001b[0m \u001b[0;34m\u001b[0m\u001b[0m\n\u001b[1;32m      3\u001b[0m \u001b[0;32mdef\u001b[0m \u001b[0mget_price\u001b[0m\u001b[0;34m(\u001b[0m\u001b[0mbook\u001b[0m\u001b[0;34m)\u001b[0m\u001b[0;34m:\u001b[0m\u001b[0;34m\u001b[0m\u001b[0;34m\u001b[0m\u001b[0m\n\u001b[0;32m----> 4\u001b[0;31m     \u001b[0mbook\u001b[0m\u001b[0;34m[\u001b[0m\u001b[0;34m'price'\u001b[0m\u001b[0;34m]\u001b[0m \u001b[0;34m=\u001b[0m \u001b[0mfloat\u001b[0m\u001b[0;34m(\u001b[0m\u001b[0mbook\u001b[0m\u001b[0;34m[\u001b[0m\u001b[0;34m\"price\"\u001b[0m\u001b[0;34m]\u001b[0m\u001b[0;34m.\u001b[0m\u001b[0mreplace\u001b[0m\u001b[0;34m(\u001b[0m\u001b[0;34m\"$\"\u001b[0m\u001b[0;34m,\u001b[0m\u001b[0;34m\"\"\u001b[0m\u001b[0;34m)\u001b[0m\u001b[0;34m)\u001b[0m\u001b[0;34m\u001b[0m\u001b[0;34m\u001b[0m\u001b[0m\n\u001b[0m\u001b[1;32m      5\u001b[0m \u001b[0;34m\u001b[0m\u001b[0m\n\u001b[1;32m      6\u001b[0m \u001b[0mget_price\u001b[0m\u001b[0;34m(\u001b[0m\u001b[0mbooks\u001b[0m\u001b[0;34m[\u001b[0m\u001b[0;36m0\u001b[0m\u001b[0;34m]\u001b[0m\u001b[0;34m)\u001b[0m\u001b[0;34m\u001b[0m\u001b[0;34m\u001b[0m\u001b[0m\n",
      "\u001b[0;31mAttributeError\u001b[0m: 'float' object has no attribute 'replace'"
     ]
    }
   ],
   "source": [
    "#we are reassigning here...\n",
    "\n",
    "def get_price(book):\n",
    "    book['price'] = float(book[\"price\"].replace(\"$\",\"\"))\n",
    "    \n",
    "get_price(books[0])"
   ]
  },
  {
   "cell_type": "code",
   "execution_count": null,
   "id": "e03072fc",
   "metadata": {},
   "outputs": [],
   "source": [
    "#Base python data cleaning of books list\n",
    "clean_books = []\n",
    "\n",
    "#always start with 'singular' in 'plural'\n",
    "for book in books:\n",
    "    clean_books= get_price(book)"
   ]
  },
  {
   "cell_type": "code",
   "execution_count": 45,
   "id": "0115b351",
   "metadata": {},
   "outputs": [],
   "source": [
    "#Let's redefine to make messy data again:\n",
    "\n",
    "books = [\n",
    "    {\n",
    "        'title':'The Giving Tree',\n",
    "        'author':'Shel S.',\n",
    "        'price': \"$2.99\",\n",
    "        'locations':[\"Half-Price Books\",\"Target\",\"Library\"]\n",
    "        \n",
    "    },\n",
    "    {\n",
    "        'title':'How to win friends',\n",
    "        'author':'Dale C',\n",
    "        'price':\"$0.99\",\n",
    "        'locations':[\"Chewie Bookshelf\",\"Target\",\"Library\"]\n",
    "        \n",
    "    },\n",
    "    {\n",
    "        'title':'Visual Display',\n",
    "        'author':'Edward T.',\n",
    "        'price':'$40.00',\n",
    "        'locations':[\"https://tufte.com\"]\n",
    "        \n",
    "    },\n",
    "    {\n",
    "        'title':'Black Swan',\n",
    "        'author':'Nassim Taleb',\n",
    "        'price':\"$12.50\",\n",
    "        'locations':[\"BN.com\",\"Amazon.com\",\"Library\"]\n",
    "        \n",
    "    },\n",
    "]"
   ]
  },
  {
   "cell_type": "code",
   "execution_count": 46,
   "id": "fa2b5642",
   "metadata": {},
   "outputs": [
    {
     "data": {
      "text/html": [
       "<div>\n",
       "<style scoped>\n",
       "    .dataframe tbody tr th:only-of-type {\n",
       "        vertical-align: middle;\n",
       "    }\n",
       "\n",
       "    .dataframe tbody tr th {\n",
       "        vertical-align: top;\n",
       "    }\n",
       "\n",
       "    .dataframe thead th {\n",
       "        text-align: right;\n",
       "    }\n",
       "</style>\n",
       "<table border=\"1\" class=\"dataframe\">\n",
       "  <thead>\n",
       "    <tr style=\"text-align: right;\">\n",
       "      <th></th>\n",
       "      <th>title</th>\n",
       "      <th>author</th>\n",
       "      <th>price</th>\n",
       "      <th>locations</th>\n",
       "    </tr>\n",
       "  </thead>\n",
       "  <tbody>\n",
       "    <tr>\n",
       "      <th>0</th>\n",
       "      <td>The Giving Tree</td>\n",
       "      <td>Shel S.</td>\n",
       "      <td>$2.99</td>\n",
       "      <td>[Half-Price Books, Target, Library]</td>\n",
       "    </tr>\n",
       "    <tr>\n",
       "      <th>1</th>\n",
       "      <td>How to win friends</td>\n",
       "      <td>Dale C</td>\n",
       "      <td>$0.99</td>\n",
       "      <td>[Chewie Bookshelf, Target, Library]</td>\n",
       "    </tr>\n",
       "    <tr>\n",
       "      <th>2</th>\n",
       "      <td>Visual Display</td>\n",
       "      <td>Edward T.</td>\n",
       "      <td>$40.00</td>\n",
       "      <td>[https://tufte.com]</td>\n",
       "    </tr>\n",
       "    <tr>\n",
       "      <th>3</th>\n",
       "      <td>Black Swan</td>\n",
       "      <td>Nassim Taleb</td>\n",
       "      <td>$12.50</td>\n",
       "      <td>[BN.com, Amazon.com, Library]</td>\n",
       "    </tr>\n",
       "  </tbody>\n",
       "</table>\n",
       "</div>"
      ],
      "text/plain": [
       "                title        author   price  \\\n",
       "0     The Giving Tree       Shel S.   $2.99   \n",
       "1  How to win friends        Dale C   $0.99   \n",
       "2      Visual Display     Edward T.  $40.00   \n",
       "3          Black Swan  Nassim Taleb  $12.50   \n",
       "\n",
       "                             locations  \n",
       "0  [Half-Price Books, Target, Library]  \n",
       "1  [Chewie Bookshelf, Target, Library]  \n",
       "2                  [https://tufte.com]  \n",
       "3        [BN.com, Amazon.com, Library]  "
      ]
     },
     "execution_count": 46,
     "metadata": {},
     "output_type": "execute_result"
    }
   ],
   "source": [
    "import pandas as pd\n",
    "\n",
    "df= pd.DataFrame(books)\n",
    "df.head()"
   ]
  },
  {
   "cell_type": "code",
   "execution_count": 49,
   "id": "a07f9757",
   "metadata": {},
   "outputs": [
    {
     "name": "stderr",
     "output_type": "stream",
     "text": [
      "/var/folders/d3/11nygz6126ndxvtrp12687680000gn/T/ipykernel_43003/4021233398.py:2: FutureWarning: The default value of regex will change from True to False in a future version. In addition, single character regular expressions will *not* be treated as literal strings when regex=True.\n",
      "  df['price'].str.replace('$','').astype(float)\n"
     ]
    },
    {
     "data": {
      "text/plain": [
       "0     2.99\n",
       "1     0.99\n",
       "2    40.00\n",
       "3    12.50\n",
       "Name: price, dtype: float64"
      ]
     },
     "execution_count": 49,
     "metadata": {},
     "output_type": "execute_result"
    }
   ],
   "source": [
    "# How do we clean the price column?\n",
    "df['price'].str.replace('$','').astype(float)"
   ]
  },
  {
   "cell_type": "code",
   "execution_count": 50,
   "id": "a30adffe",
   "metadata": {},
   "outputs": [
    {
     "data": {
      "text/html": [
       "<div>\n",
       "<style scoped>\n",
       "    .dataframe tbody tr th:only-of-type {\n",
       "        vertical-align: middle;\n",
       "    }\n",
       "\n",
       "    .dataframe tbody tr th {\n",
       "        vertical-align: top;\n",
       "    }\n",
       "\n",
       "    .dataframe thead th {\n",
       "        text-align: right;\n",
       "    }\n",
       "</style>\n",
       "<table border=\"1\" class=\"dataframe\">\n",
       "  <thead>\n",
       "    <tr style=\"text-align: right;\">\n",
       "      <th></th>\n",
       "      <th>title</th>\n",
       "      <th>author</th>\n",
       "      <th>price</th>\n",
       "      <th>locations</th>\n",
       "    </tr>\n",
       "  </thead>\n",
       "  <tbody>\n",
       "    <tr>\n",
       "      <th>0</th>\n",
       "      <td>The Giving Tree</td>\n",
       "      <td>Shel S.</td>\n",
       "      <td>$2.99</td>\n",
       "      <td>[Half-Price Books, Target, Library]</td>\n",
       "    </tr>\n",
       "    <tr>\n",
       "      <th>1</th>\n",
       "      <td>How to win friends</td>\n",
       "      <td>Dale C</td>\n",
       "      <td>$0.99</td>\n",
       "      <td>[Chewie Bookshelf, Target, Library]</td>\n",
       "    </tr>\n",
       "    <tr>\n",
       "      <th>2</th>\n",
       "      <td>Visual Display</td>\n",
       "      <td>Edward T.</td>\n",
       "      <td>$40.00</td>\n",
       "      <td>[https://tufte.com]</td>\n",
       "    </tr>\n",
       "    <tr>\n",
       "      <th>3</th>\n",
       "      <td>Black Swan</td>\n",
       "      <td>Nassim Taleb</td>\n",
       "      <td>$12.50</td>\n",
       "      <td>[BN.com, Amazon.com, Library]</td>\n",
       "    </tr>\n",
       "  </tbody>\n",
       "</table>\n",
       "</div>"
      ],
      "text/plain": [
       "                title        author   price  \\\n",
       "0     The Giving Tree       Shel S.   $2.99   \n",
       "1  How to win friends        Dale C   $0.99   \n",
       "2      Visual Display     Edward T.  $40.00   \n",
       "3          Black Swan  Nassim Taleb  $12.50   \n",
       "\n",
       "                             locations  \n",
       "0  [Half-Price Books, Target, Library]  \n",
       "1  [Chewie Bookshelf, Target, Library]  \n",
       "2                  [https://tufte.com]  \n",
       "3        [BN.com, Amazon.com, Library]  "
      ]
     },
     "execution_count": 50,
     "metadata": {},
     "output_type": "execute_result"
    }
   ],
   "source": [
    "df"
   ]
  },
  {
   "cell_type": "code",
   "execution_count": 51,
   "id": "3d6f0a4c",
   "metadata": {},
   "outputs": [
    {
     "name": "stderr",
     "output_type": "stream",
     "text": [
      "/var/folders/d3/11nygz6126ndxvtrp12687680000gn/T/ipykernel_43003/1122731063.py:4: FutureWarning: The default value of regex will change from True to False in a future version. In addition, single character regular expressions will *not* be treated as literal strings when regex=True.\n",
      "  df['price']=df['price'].str.replace('$','').astype(float)\n"
     ]
    }
   ],
   "source": [
    "#How do we apply the changed pricing to the df?\n",
    "\n",
    "#we need to reassign variables to reassing values \n",
    "df['price']=df['price'].str.replace('$','').astype(float)"
   ]
  },
  {
   "cell_type": "code",
   "execution_count": 52,
   "id": "459071e8",
   "metadata": {},
   "outputs": [
    {
     "data": {
      "text/html": [
       "<div>\n",
       "<style scoped>\n",
       "    .dataframe tbody tr th:only-of-type {\n",
       "        vertical-align: middle;\n",
       "    }\n",
       "\n",
       "    .dataframe tbody tr th {\n",
       "        vertical-align: top;\n",
       "    }\n",
       "\n",
       "    .dataframe thead th {\n",
       "        text-align: right;\n",
       "    }\n",
       "</style>\n",
       "<table border=\"1\" class=\"dataframe\">\n",
       "  <thead>\n",
       "    <tr style=\"text-align: right;\">\n",
       "      <th></th>\n",
       "      <th>title</th>\n",
       "      <th>author</th>\n",
       "      <th>price</th>\n",
       "      <th>locations</th>\n",
       "    </tr>\n",
       "  </thead>\n",
       "  <tbody>\n",
       "    <tr>\n",
       "      <th>0</th>\n",
       "      <td>The Giving Tree</td>\n",
       "      <td>Shel S.</td>\n",
       "      <td>2.99</td>\n",
       "      <td>[Half-Price Books, Target, Library]</td>\n",
       "    </tr>\n",
       "    <tr>\n",
       "      <th>1</th>\n",
       "      <td>How to win friends</td>\n",
       "      <td>Dale C</td>\n",
       "      <td>0.99</td>\n",
       "      <td>[Chewie Bookshelf, Target, Library]</td>\n",
       "    </tr>\n",
       "    <tr>\n",
       "      <th>2</th>\n",
       "      <td>Visual Display</td>\n",
       "      <td>Edward T.</td>\n",
       "      <td>40.00</td>\n",
       "      <td>[https://tufte.com]</td>\n",
       "    </tr>\n",
       "    <tr>\n",
       "      <th>3</th>\n",
       "      <td>Black Swan</td>\n",
       "      <td>Nassim Taleb</td>\n",
       "      <td>12.50</td>\n",
       "      <td>[BN.com, Amazon.com, Library]</td>\n",
       "    </tr>\n",
       "  </tbody>\n",
       "</table>\n",
       "</div>"
      ],
      "text/plain": [
       "                title        author  price  \\\n",
       "0     The Giving Tree       Shel S.   2.99   \n",
       "1  How to win friends        Dale C   0.99   \n",
       "2      Visual Display     Edward T.  40.00   \n",
       "3          Black Swan  Nassim Taleb  12.50   \n",
       "\n",
       "                             locations  \n",
       "0  [Half-Price Books, Target, Library]  \n",
       "1  [Chewie Bookshelf, Target, Library]  \n",
       "2                  [https://tufte.com]  \n",
       "3        [BN.com, Amazon.com, Library]  "
      ]
     },
     "execution_count": 52,
     "metadata": {},
     "output_type": "execute_result"
    }
   ],
   "source": [
    "df"
   ]
  },
  {
   "cell_type": "code",
   "execution_count": 53,
   "id": "e1619ccd",
   "metadata": {},
   "outputs": [
    {
     "data": {
      "text/plain": [
       "56.480000000000004"
      ]
     },
     "execution_count": 53,
     "metadata": {},
     "output_type": "execute_result"
    }
   ],
   "source": [
    "#what's the sum of all the prices?\n",
    "\n",
    "df.price.sum()"
   ]
  },
  {
   "cell_type": "code",
   "execution_count": 54,
   "id": "c8965474",
   "metadata": {},
   "outputs": [
    {
     "data": {
      "text/plain": [
       "14.120000000000001"
      ]
     },
     "execution_count": 54,
     "metadata": {},
     "output_type": "execute_result"
    }
   ],
   "source": [
    "#what's the average price?\n",
    "df.price.mean()"
   ]
  },
  {
   "cell_type": "code",
   "execution_count": 60,
   "id": "d8ba5334",
   "metadata": {},
   "outputs": [],
   "source": [
    "#How do we access lists with .apply to get at fields in dataframe that are collections\n",
    "#Exercise: create a simple list of all of the locations represented\n",
    "\n",
    "#if you ever feel like you need a For loop in a dataframe, consider using .apply(axis=1)\n",
    "\n",
    "all_locations = []\n",
    "\n",
    "def append_locations(locations):\n",
    "    for location in locations:\n",
    "        all_locations.append(location)"
   ]
  },
  {
   "cell_type": "code",
   "execution_count": 61,
   "id": "0afd4c09",
   "metadata": {},
   "outputs": [
    {
     "data": {
      "text/plain": [
       "['Sams Club', 'Costco', 'The Twig']"
      ]
     },
     "execution_count": 61,
     "metadata": {},
     "output_type": "execute_result"
    }
   ],
   "source": [
    "append_locations([\"Sams Club\", 'Costco','The Twig'])\n",
    "\n",
    "all_locations"
   ]
  },
  {
   "cell_type": "code",
   "execution_count": 63,
   "id": "6b863fe6",
   "metadata": {},
   "outputs": [],
   "source": [
    "all_locations = []"
   ]
  },
  {
   "cell_type": "code",
   "execution_count": 67,
   "id": "e46d05f0",
   "metadata": {},
   "outputs": [
    {
     "data": {
      "text/plain": [
       "0    None\n",
       "1    None\n",
       "2    None\n",
       "3    None\n",
       "Name: locations, dtype: object"
      ]
     },
     "execution_count": 67,
     "metadata": {},
     "output_type": "execute_result"
    }
   ],
   "source": [
    "df.locations.apply(append_locations)"
   ]
  },
  {
   "cell_type": "code",
   "execution_count": 69,
   "id": "4ccbc997",
   "metadata": {},
   "outputs": [
    {
     "data": {
      "text/plain": [
       "{'Amazon.com',\n",
       " 'BN.com',\n",
       " 'Chewie Bookshelf',\n",
       " 'Half-Price Books',\n",
       " 'Library',\n",
       " 'Target',\n",
       " 'https://tufte.com'}"
      ]
     },
     "execution_count": 69,
     "metadata": {},
     "output_type": "execute_result"
    }
   ],
   "source": [
    "all_locations = set(all_locations)\n",
    "all_locations"
   ]
  },
  {
   "cell_type": "code",
   "execution_count": null,
   "id": "82ac2331",
   "metadata": {},
   "outputs": [],
   "source": []
  }
 ],
 "metadata": {
  "kernelspec": {
   "display_name": "Python 3 (ipykernel)",
   "language": "python",
   "name": "python3"
  },
  "language_info": {
   "codemirror_mode": {
    "name": "ipython",
    "version": 3
   },
   "file_extension": ".py",
   "mimetype": "text/x-python",
   "name": "python",
   "nbconvert_exporter": "python",
   "pygments_lexer": "ipython3",
   "version": "3.9.7"
  }
 },
 "nbformat": 4,
 "nbformat_minor": 5
}
