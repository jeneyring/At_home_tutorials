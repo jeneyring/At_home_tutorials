{
 "cells": [
  {
   "cell_type": "code",
   "execution_count": 1,
   "id": "b1961382",
   "metadata": {},
   "outputs": [],
   "source": [
    "from sklearn.datasets import *\n",
    "from sklearn import tree\n",
    "from dtreeviz.trees import *"
   ]
  },
  {
   "cell_type": "code",
   "execution_count": null,
   "id": "04edd63a",
   "metadata": {},
   "outputs": [],
   "source": [
    "#note: jupyter notebooks still does not have capability of show dtreeviz in kernel . it will open a new window to show."
   ]
  },
  {
   "cell_type": "code",
   "execution_count": 2,
   "id": "c2e62cca",
   "metadata": {},
   "outputs": [],
   "source": [
    "regr = tree.DecisionTreeRegressor(max_depth=2)\n",
    "boston = load_boston()\n",
    "regr.fit(boston.data, boston.target)\n",
    "\n",
    "viz = dtreeviz(regr,\n",
    "               boston.data,\n",
    "               boston.target,\n",
    "               target_name='price',\n",
    "               feature_names=boston.feature_names)\n",
    "              \n",
    "viz.view()              "
   ]
  },
  {
   "cell_type": "code",
   "execution_count": 3,
   "id": "1d939fc8",
   "metadata": {},
   "outputs": [],
   "source": [
    "classifier = tree.DecisionTreeClassifier(max_depth=2)  # limit depth of tree\n",
    "iris = load_iris()\n",
    "classifier.fit(iris.data, iris.target)\n",
    "\n",
    "viz = dtreeviz(classifier, \n",
    "               iris.data, \n",
    "               iris.target,\n",
    "               target_name='variety',\n",
    "               feature_names=iris.feature_names, \n",
    "               class_names=[\"setosa\", \"versicolor\", \"virginica\"]  # need class_names for classifier\n",
    "              )  \n",
    "              \n",
    "viz.view() "
   ]
  },
  {
   "cell_type": "code",
   "execution_count": null,
   "id": "f893a1dd",
   "metadata": {},
   "outputs": [],
   "source": []
  }
 ],
 "metadata": {
  "kernelspec": {
   "display_name": "Python 3 (ipykernel)",
   "language": "python",
   "name": "python3"
  },
  "language_info": {
   "codemirror_mode": {
    "name": "ipython",
    "version": 3
   },
   "file_extension": ".py",
   "mimetype": "text/x-python",
   "name": "python",
   "nbconvert_exporter": "python",
   "pygments_lexer": "ipython3",
   "version": "3.9.7"
  }
 },
 "nbformat": 4,
 "nbformat_minor": 5
}
